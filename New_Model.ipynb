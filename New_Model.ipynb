{
  "nbformat": 4,
  "nbformat_minor": 0,
  "metadata": {
    "accelerator": "GPU",
    "colab": {
      "name": "New Model.ipynb",
      "provenance": [],
      "collapsed_sections": [],
      "machine_shape": "hm"
    },
    "kernelspec": {
      "display_name": "Python 3",
      "name": "python3"
    }
  },
  "cells": [
    {
      "cell_type": "code",
      "metadata": {
        "colab": {
          "base_uri": "https://localhost:8080/"
        },
        "id": "q9n0lA-t61oH",
        "outputId": "7bc3ca01-3aeb-4ef4-8e6e-041eccae8ae0"
      },
      "source": [
        "from google.colab import drive\n",
        "drive.mount('/content/drive')"
      ],
      "execution_count": 13,
      "outputs": [
        {
          "output_type": "stream",
          "text": [
            "Drive already mounted at /content/drive; to attempt to forcibly remount, call drive.mount(\"/content/drive\", force_remount=True).\n"
          ],
          "name": "stdout"
        }
      ]
    },
    {
      "cell_type": "code",
      "metadata": {
        "id": "5AAqdjC5TH6-"
      },
      "source": [
        "import os, os.path, shutil\n",
        "import numpy as np\n",
        "import matplotlib.pyplot as plt\n",
        "import pandas as pd\n",
        "import seaborn as sns\n",
        "import pathlib\n",
        "import os\n",
        "import datetime\n",
        "from PIL import Image\n",
        "import tensorflow as tf\n",
        "import keras\n",
        "from tensorflow.keras.preprocessing.image import *\n",
        "from tensorflow.keras import layers\n",
        "from tensorflow.keras.models import Sequential, Model\n",
        "from tensorflow.keras.layers import *\n",
        "from tensorflow.keras.optimizers import *\n",
        "from tensorflow.keras.applications import *\n",
        "from tensorflow.keras.callbacks import *\n",
        "from tensorflow.keras.initializers import *\n",
        "from tensorflow.keras.preprocessing.image import ImageDataGenerator\n",
        "from tensorflow.keras.applications.inception_resnet_v2 import preprocess_input"
      ],
      "execution_count": 14,
      "outputs": []
    },
    {
      "cell_type": "markdown",
      "metadata": {
        "id": "Kuuytq0drD52"
      },
      "source": [
        "#### Download and load food-101 dataset, excluding worst food classes which were previously determined"
      ]
    },
    {
      "cell_type": "code",
      "metadata": {
        "id": "JmDhaXCi4HS7"
      },
      "source": [
        "# Splits dataset into training folder and test folder\n",
        "\n",
        "!wget https://data.vision.ee.ethz.ch/cvl/food-101.tar.gz\n",
        "!tar -xzf food-101.tar.gz\n",
        "data_dir = pathlib.Path(\"/content/food-101/images\")\n",
        "val_dir = pathlib.Path(\"/content/validation\")\n",
        "test_dir = pathlib.Path(\"/content/test\")\n",
        "\n",
        "exception = [42, 18, 84, 3, 17, 47, 80, 36, 26, 89, 96, 39, 5, 49, 57, 59, 99, 8, 10, 0, 15, 82, 56, 67, 37, 93, 22, 50, 4, 87, 77]\n",
        "\n",
        "folder_path = data_dir\n",
        "train_path = test_dir\n",
        "\n",
        "folders = sorted([f for f in os.listdir(folder_path)])\n",
        "\n",
        "for index, folder in enumerate(folders):\n",
        "  path = os.path.join(folder_path, folder)\n",
        "  tpath = os.path.join(train_path,folder)\n",
        "\n",
        "  if index in exception:\n",
        "    shutil.rmtree(path)\n",
        "    continue\n",
        "\n",
        "  if not os.path.exists(tpath):\n",
        "      os.makedirs(tpath)\n",
        "\n",
        "  images = os.listdir(path)\n",
        "  count = 0\n",
        "  for image in images:\n",
        "    if count <= 100:\n",
        "      old_image_path = os.path.join(path,image)\n",
        "      new_image_path = os.path.join(tpath,image)\n",
        "      shutil.move(old_image_path, new_image_path)\n",
        "    count += 1"
      ],
      "execution_count": 3,
      "outputs": []
    },
    {
      "cell_type": "code",
      "metadata": {
        "id": "9ZhAb4gRb37A"
      },
      "source": [
        "# Split again to create validation set\n",
        "\n",
        "folder_path = data_dir\n",
        "val_path = val_dir\n",
        "\n",
        "folders = [f for f in os.listdir(folder_path)]\n",
        "\n",
        "for folder in folders:\n",
        "    path = os.path.join(folder_path, folder)\n",
        "    tpath = os.path.join(val_path,folder)\n",
        "\n",
        "    if not os.path.exists(tpath):\n",
        "        os.makedirs(tpath)\n",
        "\n",
        "    images = os.listdir(path)\n",
        "    count = 0\n",
        "    for image in images:\n",
        "      if count <= 100:\n",
        "        old_image_path = os.path.join(path,image)\n",
        "        new_image_path = os.path.join(tpath,image)\n",
        "        shutil.move(old_image_path, new_image_path)\n",
        "      count += 1"
      ],
      "execution_count": null,
      "outputs": []
    },
    {
      "cell_type": "code",
      "metadata": {
        "id": "xj_euqkOb9vx"
      },
      "source": [
        "val_dir = test_dir"
      ],
      "execution_count": 15,
      "outputs": []
    },
    {
      "cell_type": "code",
      "metadata": {
        "colab": {
          "base_uri": "https://localhost:8080/"
        },
        "id": "FO0QwRpeKVuW",
        "outputId": "200f4846-e6d3-4bc3-b107-f8f0a68aeeeb"
      },
      "source": [
        "batch_size = 64\n",
        "img_height = 256\n",
        "img_width = 256\n",
        "\n",
        "train_img_data_gen = ImageDataGenerator(preprocessing_function=preprocess_input,\n",
        "                                  #  validation_split=0.1,\n",
        "                                   width_shift_range=0.2,\n",
        "                                   height_shift_range=0.2,\n",
        "                                   shear_range=5,\n",
        "                                   horizontal_flip=True,\n",
        "                                   vertical_flip=False,\n",
        "                                   fill_mode='nearest',\n",
        "                                   zoom_range=0.2\n",
        "                                  )\n",
        "\n",
        "val_img_data_gen = ImageDataGenerator(preprocessing_function=preprocess_input)\n",
        "\n",
        "train_ds = train_img_data_gen.flow_from_directory(directory=data_dir,\n",
        "                                                    class_mode='sparse',\n",
        "                                                    target_size=(img_width, img_height),\n",
        "                                                    batch_size=batch_size,\n",
        "                                                    # subset='training',\n",
        "                                                    shuffle=True\n",
        "                                                   )\n",
        "\n",
        "\n",
        "val_ds = val_img_data_gen.flow_from_directory(directory=val_dir,\n",
        "                                                    class_mode='sparse',\n",
        "                                                    target_size=(img_width, img_height),\n",
        "                                                    batch_size=batch_size,\n",
        "                                                    # subset='validation',\n",
        "                                                    shuffle=True\n",
        "                                                   )"
      ],
      "execution_count": 16,
      "outputs": [
        {
          "output_type": "stream",
          "text": [
            "Found 62930 images belonging to 70 classes.\n",
            "Found 7070 images belonging to 70 classes.\n"
          ],
          "name": "stdout"
        }
      ]
    },
    {
      "cell_type": "code",
      "metadata": {
        "id": "eRtXejQ6kziB"
      },
      "source": [
        "x_batch, y_batch = next(train_ds)\n",
        "\n",
        "for i in range(0,11):\n",
        "    image = x_batch[i]\n",
        "    plt.imshow(image)\n",
        "    plt.show()"
      ],
      "execution_count": null,
      "outputs": []
    },
    {
      "cell_type": "code",
      "metadata": {
        "id": "t6AO7K4YOaAL",
        "colab": {
          "base_uri": "https://localhost:8080/"
        },
        "outputId": "14f1bd48-02af-4966-edb7-63ebe9be9413"
      },
      "source": [
        "num_classes = 70\n",
        "\n",
        "modelBase = InceptionResNetV2(weights='imagenet', include_top=False, input_shape=(256, 256, 3), pooling='avg')\n",
        "\n",
        "modelp = modelBase.output\n",
        "# modelp = Flatten()(modelp)\n",
        "\n",
        "# modelp = Dense(2048, kernel_initializer='he_uniform', activation='relu')(modelp)\n",
        "# modelp = Dense(2048, kernel_initializer='he_uniform', activation='relu')(modelp)\n",
        "# modelp = Dense(2048, kernel_initializer='he_uniform', activation='relu')(modelp)\n",
        "modelp = Dense(2048, kernel_initializer='he_uniform', activation='relu')(modelp)\n",
        "output = Dense(num_classes, activation='softmax')(modelp)\n",
        "\n",
        "model = Model(inputs=modelBase.input, outputs=output)\n",
        "\n",
        "for layer in modelBase.layers:\n",
        "    layer.trainable = False"
      ],
      "execution_count": 13,
      "outputs": [
        {
          "output_type": "stream",
          "text": [
            "Downloading data from https://storage.googleapis.com/tensorflow/keras-applications/inception_v3/inception_v3_weights_tf_dim_ordering_tf_kernels_notop.h5\n",
            "87916544/87910968 [==============================] - 2s 0us/step\n"
          ],
          "name": "stdout"
        }
      ]
    },
    {
      "cell_type": "code",
      "metadata": {
        "id": "qg38UBpZCEFr"
      },
      "source": [
        "modelBase = tf.keras.models.load_model('/content/drive/MyDrive/MAIS/MAIS202Data/inception1')\n",
        "output = Dense(num_classes, activation='relu')(modelBase.layers[-2].output)\n",
        "model = Model(inputs=modelBase.input, outputs=output)"
      ],
      "execution_count": null,
      "outputs": []
    },
    {
      "cell_type": "code",
      "metadata": {
        "id": "EE3asOG8YI2g"
      },
      "source": [
        "model = tf.keras.models.load_model('/content/drive/MyDrive/MAIS/MAIS202Data/inception-new2')"
      ],
      "execution_count": 8,
      "outputs": []
    },
    {
      "cell_type": "code",
      "metadata": {
        "id": "SbrwQ0GBv6ai"
      },
      "source": [
        "# for i, layer in enumerate(model.layers):\n",
        "#    print(i, layer.name)\n",
        "\n",
        "for layer in model.layers[:777]:\n",
        "   layer.trainable = False\n",
        "for layer in model.layers[777:]:\n",
        "   layer.trainable = True\n",
        "\n",
        "# for layer in model.layers[:781]:\n",
        "#    layer.trainable = False\n",
        "# for layer in model.layers[781:]:\n",
        "#    layer.trainable = True\n",
        "\n",
        "# for layer in model.layers[:312]:\n",
        "#    layer.trainable = False\n",
        "# for layer in model.layers[312:]:\n",
        "#    layer.trainable = True"
      ],
      "execution_count": 10,
      "outputs": []
    },
    {
      "cell_type": "code",
      "metadata": {
        "id": "XcxhuFJLOm0V"
      },
      "source": [
        "# opt = keras.optimizers.Adam(learning_rate=0.00005)\n",
        "# opt = keras.optimizers.Adam(learning_rate=0.00001)\n",
        "# opt = keras.optimizers.Adam(learning_rate=0.000000005)\n",
        "opt = keras.optimizers.Adam(learning_rate=0.000001)\n",
        "# opt = keras.optimizers.Adam()\n",
        "# opt = keras.optimizers.SGD(learning_rate=0.000005, momentum=0.9, nesterov=True)\n",
        "# opt = keras.optimizers.SGD(momentum=0.9, nesterov=True)\n",
        "\n",
        "model.compile(\n",
        "  optimizer=opt,\n",
        "  loss=tf.losses.SparseCategoricalCrossentropy(),\n",
        "  metrics=['sparse_categorical_accuracy'])"
      ],
      "execution_count": 11,
      "outputs": []
    },
    {
      "cell_type": "code",
      "metadata": {
        "colab": {
          "base_uri": "https://localhost:8080/",
          "height": 667
        },
        "id": "aCkYdnvtOoqk",
        "outputId": "9d70a8e4-be01-4569-f57d-68c45bdfcae2"
      },
      "source": [
        "print(\"Start training:\",datetime.datetime.now())\n",
        "\n",
        "modelPath = \"/content/drive/MyDrive/MAIS/MAIS202Data/inception-new3\"\n",
        "\n",
        "earlyStopping = EarlyStopping(monitor='val_loss', patience=30, verbose=0, mode='min')\n",
        "mcp_save = ModelCheckpoint(modelPath, save_best_only=True, monitor='val_loss', mode='min')\n",
        "reduce_lr_loss = ReduceLROnPlateau(monitor='val_loss', factor=0.1, patience=5, verbose=1, mode='min')\n",
        "\n",
        "model.fit(\n",
        "    train_ds,\n",
        "    validation_data=val_ds,\n",
        "    epochs=50,\n",
        "    verbose=1,\n",
        "    initial_epoch=0,\n",
        "    max_queue_size=100,\n",
        "    workers=300,\n",
        "    use_multiprocessing=False,\n",
        "    callbacks=[earlyStopping, mcp_save, reduce_lr_loss]\n",
        ")"
      ],
      "execution_count": 12,
      "outputs": [
        {
          "output_type": "stream",
          "text": [
            "Start training: 2021-04-08 23:35:34.146943\n",
            "Epoch 1/50\n",
            "984/984 [==============================] - 715s 646ms/step - loss: 0.2452 - sparse_categorical_accuracy: 0.9295 - val_loss: 0.2169 - val_sparse_categorical_accuracy: 0.9376\n",
            "INFO:tensorflow:Assets written to: /content/drive/MyDrive/MAIS/MAIS202Data/inception-new3/assets\n",
            "Epoch 2/50\n",
            "984/984 [==============================] - 660s 616ms/step - loss: 0.2414 - sparse_categorical_accuracy: 0.9310 - val_loss: 0.2160 - val_sparse_categorical_accuracy: 0.9376\n",
            "INFO:tensorflow:Assets written to: /content/drive/MyDrive/MAIS/MAIS202Data/inception-new3/assets\n",
            "Epoch 3/50\n",
            "984/984 [==============================] - 666s 621ms/step - loss: 0.2394 - sparse_categorical_accuracy: 0.9298 - val_loss: 0.2160 - val_sparse_categorical_accuracy: 0.9379\n",
            "Epoch 4/50\n",
            "984/984 [==============================] - 660s 616ms/step - loss: 0.2420 - sparse_categorical_accuracy: 0.9296 - val_loss: 0.2159 - val_sparse_categorical_accuracy: 0.9376\n",
            "INFO:tensorflow:Assets written to: /content/drive/MyDrive/MAIS/MAIS202Data/inception-new3/assets\n",
            "Epoch 5/50\n",
            "984/984 [==============================] - 653s 609ms/step - loss: 0.2373 - sparse_categorical_accuracy: 0.9312 - val_loss: 0.2160 - val_sparse_categorical_accuracy: 0.9386\n",
            "Epoch 6/50\n",
            "672/984 [===================>..........] - ETA: 2:51 - loss: 0.2349 - sparse_categorical_accuracy: 0.9293"
          ],
          "name": "stdout"
        },
        {
          "output_type": "error",
          "ename": "KeyboardInterrupt",
          "evalue": "ignored",
          "traceback": [
            "\u001b[0;31m---------------------------------------------------------------------------\u001b[0m",
            "\u001b[0;31mKeyboardInterrupt\u001b[0m                         Traceback (most recent call last)",
            "\u001b[0;32m<ipython-input-12-6dbfae2b8ec0>\u001b[0m in \u001b[0;36m<module>\u001b[0;34m()\u001b[0m\n\u001b[1;32m     16\u001b[0m     \u001b[0mworkers\u001b[0m\u001b[0;34m=\u001b[0m\u001b[0;36m300\u001b[0m\u001b[0;34m,\u001b[0m\u001b[0;34m\u001b[0m\u001b[0;34m\u001b[0m\u001b[0m\n\u001b[1;32m     17\u001b[0m     \u001b[0muse_multiprocessing\u001b[0m\u001b[0;34m=\u001b[0m\u001b[0;32mFalse\u001b[0m\u001b[0;34m,\u001b[0m\u001b[0;34m\u001b[0m\u001b[0;34m\u001b[0m\u001b[0m\n\u001b[0;32m---> 18\u001b[0;31m     \u001b[0mcallbacks\u001b[0m\u001b[0;34m=\u001b[0m\u001b[0;34m[\u001b[0m\u001b[0mearlyStopping\u001b[0m\u001b[0;34m,\u001b[0m \u001b[0mmcp_save\u001b[0m\u001b[0;34m,\u001b[0m \u001b[0mreduce_lr_loss\u001b[0m\u001b[0;34m]\u001b[0m\u001b[0;34m\u001b[0m\u001b[0;34m\u001b[0m\u001b[0m\n\u001b[0m\u001b[1;32m     19\u001b[0m )\n",
            "\u001b[0;32m/usr/local/lib/python3.7/dist-packages/tensorflow/python/keras/engine/training.py\u001b[0m in \u001b[0;36mfit\u001b[0;34m(self, x, y, batch_size, epochs, verbose, callbacks, validation_split, validation_data, shuffle, class_weight, sample_weight, initial_epoch, steps_per_epoch, validation_steps, validation_batch_size, validation_freq, max_queue_size, workers, use_multiprocessing)\u001b[0m\n\u001b[1;32m   1098\u001b[0m                 _r=1):\n\u001b[1;32m   1099\u001b[0m               \u001b[0mcallbacks\u001b[0m\u001b[0;34m.\u001b[0m\u001b[0mon_train_batch_begin\u001b[0m\u001b[0;34m(\u001b[0m\u001b[0mstep\u001b[0m\u001b[0;34m)\u001b[0m\u001b[0;34m\u001b[0m\u001b[0;34m\u001b[0m\u001b[0m\n\u001b[0;32m-> 1100\u001b[0;31m               \u001b[0mtmp_logs\u001b[0m \u001b[0;34m=\u001b[0m \u001b[0mself\u001b[0m\u001b[0;34m.\u001b[0m\u001b[0mtrain_function\u001b[0m\u001b[0;34m(\u001b[0m\u001b[0miterator\u001b[0m\u001b[0;34m)\u001b[0m\u001b[0;34m\u001b[0m\u001b[0;34m\u001b[0m\u001b[0m\n\u001b[0m\u001b[1;32m   1101\u001b[0m               \u001b[0;32mif\u001b[0m \u001b[0mdata_handler\u001b[0m\u001b[0;34m.\u001b[0m\u001b[0mshould_sync\u001b[0m\u001b[0;34m:\u001b[0m\u001b[0;34m\u001b[0m\u001b[0;34m\u001b[0m\u001b[0m\n\u001b[1;32m   1102\u001b[0m                 \u001b[0mcontext\u001b[0m\u001b[0;34m.\u001b[0m\u001b[0masync_wait\u001b[0m\u001b[0;34m(\u001b[0m\u001b[0;34m)\u001b[0m\u001b[0;34m\u001b[0m\u001b[0;34m\u001b[0m\u001b[0m\n",
            "\u001b[0;32m/usr/local/lib/python3.7/dist-packages/tensorflow/python/eager/def_function.py\u001b[0m in \u001b[0;36m__call__\u001b[0;34m(self, *args, **kwds)\u001b[0m\n\u001b[1;32m    826\u001b[0m     \u001b[0mtracing_count\u001b[0m \u001b[0;34m=\u001b[0m \u001b[0mself\u001b[0m\u001b[0;34m.\u001b[0m\u001b[0mexperimental_get_tracing_count\u001b[0m\u001b[0;34m(\u001b[0m\u001b[0;34m)\u001b[0m\u001b[0;34m\u001b[0m\u001b[0;34m\u001b[0m\u001b[0m\n\u001b[1;32m    827\u001b[0m     \u001b[0;32mwith\u001b[0m \u001b[0mtrace\u001b[0m\u001b[0;34m.\u001b[0m\u001b[0mTrace\u001b[0m\u001b[0;34m(\u001b[0m\u001b[0mself\u001b[0m\u001b[0;34m.\u001b[0m\u001b[0m_name\u001b[0m\u001b[0;34m)\u001b[0m \u001b[0;32mas\u001b[0m \u001b[0mtm\u001b[0m\u001b[0;34m:\u001b[0m\u001b[0;34m\u001b[0m\u001b[0;34m\u001b[0m\u001b[0m\n\u001b[0;32m--> 828\u001b[0;31m       \u001b[0mresult\u001b[0m \u001b[0;34m=\u001b[0m \u001b[0mself\u001b[0m\u001b[0;34m.\u001b[0m\u001b[0m_call\u001b[0m\u001b[0;34m(\u001b[0m\u001b[0;34m*\u001b[0m\u001b[0margs\u001b[0m\u001b[0;34m,\u001b[0m \u001b[0;34m**\u001b[0m\u001b[0mkwds\u001b[0m\u001b[0;34m)\u001b[0m\u001b[0;34m\u001b[0m\u001b[0;34m\u001b[0m\u001b[0m\n\u001b[0m\u001b[1;32m    829\u001b[0m       \u001b[0mcompiler\u001b[0m \u001b[0;34m=\u001b[0m \u001b[0;34m\"xla\"\u001b[0m \u001b[0;32mif\u001b[0m \u001b[0mself\u001b[0m\u001b[0;34m.\u001b[0m\u001b[0m_experimental_compile\u001b[0m \u001b[0;32melse\u001b[0m \u001b[0;34m\"nonXla\"\u001b[0m\u001b[0;34m\u001b[0m\u001b[0;34m\u001b[0m\u001b[0m\n\u001b[1;32m    830\u001b[0m       \u001b[0mnew_tracing_count\u001b[0m \u001b[0;34m=\u001b[0m \u001b[0mself\u001b[0m\u001b[0;34m.\u001b[0m\u001b[0mexperimental_get_tracing_count\u001b[0m\u001b[0;34m(\u001b[0m\u001b[0;34m)\u001b[0m\u001b[0;34m\u001b[0m\u001b[0;34m\u001b[0m\u001b[0m\n",
            "\u001b[0;32m/usr/local/lib/python3.7/dist-packages/tensorflow/python/eager/def_function.py\u001b[0m in \u001b[0;36m_call\u001b[0;34m(self, *args, **kwds)\u001b[0m\n\u001b[1;32m    853\u001b[0m       \u001b[0;31m# In this case we have created variables on the first call, so we run the\u001b[0m\u001b[0;34m\u001b[0m\u001b[0;34m\u001b[0m\u001b[0;34m\u001b[0m\u001b[0m\n\u001b[1;32m    854\u001b[0m       \u001b[0;31m# defunned version which is guaranteed to never create variables.\u001b[0m\u001b[0;34m\u001b[0m\u001b[0;34m\u001b[0m\u001b[0;34m\u001b[0m\u001b[0m\n\u001b[0;32m--> 855\u001b[0;31m       \u001b[0;32mreturn\u001b[0m \u001b[0mself\u001b[0m\u001b[0;34m.\u001b[0m\u001b[0m_stateless_fn\u001b[0m\u001b[0;34m(\u001b[0m\u001b[0;34m*\u001b[0m\u001b[0margs\u001b[0m\u001b[0;34m,\u001b[0m \u001b[0;34m**\u001b[0m\u001b[0mkwds\u001b[0m\u001b[0;34m)\u001b[0m  \u001b[0;31m# pylint: disable=not-callable\u001b[0m\u001b[0;34m\u001b[0m\u001b[0;34m\u001b[0m\u001b[0m\n\u001b[0m\u001b[1;32m    856\u001b[0m     \u001b[0;32melif\u001b[0m \u001b[0mself\u001b[0m\u001b[0;34m.\u001b[0m\u001b[0m_stateful_fn\u001b[0m \u001b[0;32mis\u001b[0m \u001b[0;32mnot\u001b[0m \u001b[0;32mNone\u001b[0m\u001b[0;34m:\u001b[0m\u001b[0;34m\u001b[0m\u001b[0;34m\u001b[0m\u001b[0m\n\u001b[1;32m    857\u001b[0m       \u001b[0;31m# Release the lock early so that multiple threads can perform the call\u001b[0m\u001b[0;34m\u001b[0m\u001b[0;34m\u001b[0m\u001b[0;34m\u001b[0m\u001b[0m\n",
            "\u001b[0;32m/usr/local/lib/python3.7/dist-packages/tensorflow/python/eager/function.py\u001b[0m in \u001b[0;36m__call__\u001b[0;34m(self, *args, **kwargs)\u001b[0m\n\u001b[1;32m   2941\u001b[0m        filtered_flat_args) = self._maybe_define_function(args, kwargs)\n\u001b[1;32m   2942\u001b[0m     return graph_function._call_flat(\n\u001b[0;32m-> 2943\u001b[0;31m         filtered_flat_args, captured_inputs=graph_function.captured_inputs)  # pylint: disable=protected-access\n\u001b[0m\u001b[1;32m   2944\u001b[0m \u001b[0;34m\u001b[0m\u001b[0m\n\u001b[1;32m   2945\u001b[0m   \u001b[0;34m@\u001b[0m\u001b[0mproperty\u001b[0m\u001b[0;34m\u001b[0m\u001b[0;34m\u001b[0m\u001b[0m\n",
            "\u001b[0;32m/usr/local/lib/python3.7/dist-packages/tensorflow/python/eager/function.py\u001b[0m in \u001b[0;36m_call_flat\u001b[0;34m(self, args, captured_inputs, cancellation_manager)\u001b[0m\n\u001b[1;32m   1917\u001b[0m       \u001b[0;31m# No tape is watching; skip to running the function.\u001b[0m\u001b[0;34m\u001b[0m\u001b[0;34m\u001b[0m\u001b[0;34m\u001b[0m\u001b[0m\n\u001b[1;32m   1918\u001b[0m       return self._build_call_outputs(self._inference_function.call(\n\u001b[0;32m-> 1919\u001b[0;31m           ctx, args, cancellation_manager=cancellation_manager))\n\u001b[0m\u001b[1;32m   1920\u001b[0m     forward_backward = self._select_forward_and_backward_functions(\n\u001b[1;32m   1921\u001b[0m         \u001b[0margs\u001b[0m\u001b[0;34m,\u001b[0m\u001b[0;34m\u001b[0m\u001b[0;34m\u001b[0m\u001b[0m\n",
            "\u001b[0;32m/usr/local/lib/python3.7/dist-packages/tensorflow/python/eager/function.py\u001b[0m in \u001b[0;36mcall\u001b[0;34m(self, ctx, args, cancellation_manager)\u001b[0m\n\u001b[1;32m    558\u001b[0m               \u001b[0minputs\u001b[0m\u001b[0;34m=\u001b[0m\u001b[0margs\u001b[0m\u001b[0;34m,\u001b[0m\u001b[0;34m\u001b[0m\u001b[0;34m\u001b[0m\u001b[0m\n\u001b[1;32m    559\u001b[0m               \u001b[0mattrs\u001b[0m\u001b[0;34m=\u001b[0m\u001b[0mattrs\u001b[0m\u001b[0;34m,\u001b[0m\u001b[0;34m\u001b[0m\u001b[0;34m\u001b[0m\u001b[0m\n\u001b[0;32m--> 560\u001b[0;31m               ctx=ctx)\n\u001b[0m\u001b[1;32m    561\u001b[0m         \u001b[0;32melse\u001b[0m\u001b[0;34m:\u001b[0m\u001b[0;34m\u001b[0m\u001b[0;34m\u001b[0m\u001b[0m\n\u001b[1;32m    562\u001b[0m           outputs = execute.execute_with_cancellation(\n",
            "\u001b[0;32m/usr/local/lib/python3.7/dist-packages/tensorflow/python/eager/execute.py\u001b[0m in \u001b[0;36mquick_execute\u001b[0;34m(op_name, num_outputs, inputs, attrs, ctx, name)\u001b[0m\n\u001b[1;32m     58\u001b[0m     \u001b[0mctx\u001b[0m\u001b[0;34m.\u001b[0m\u001b[0mensure_initialized\u001b[0m\u001b[0;34m(\u001b[0m\u001b[0;34m)\u001b[0m\u001b[0;34m\u001b[0m\u001b[0;34m\u001b[0m\u001b[0m\n\u001b[1;32m     59\u001b[0m     tensors = pywrap_tfe.TFE_Py_Execute(ctx._handle, device_name, op_name,\n\u001b[0;32m---> 60\u001b[0;31m                                         inputs, attrs, num_outputs)\n\u001b[0m\u001b[1;32m     61\u001b[0m   \u001b[0;32mexcept\u001b[0m \u001b[0mcore\u001b[0m\u001b[0;34m.\u001b[0m\u001b[0m_NotOkStatusException\u001b[0m \u001b[0;32mas\u001b[0m \u001b[0me\u001b[0m\u001b[0;34m:\u001b[0m\u001b[0;34m\u001b[0m\u001b[0;34m\u001b[0m\u001b[0m\n\u001b[1;32m     62\u001b[0m     \u001b[0;32mif\u001b[0m \u001b[0mname\u001b[0m \u001b[0;32mis\u001b[0m \u001b[0;32mnot\u001b[0m \u001b[0;32mNone\u001b[0m\u001b[0;34m:\u001b[0m\u001b[0;34m\u001b[0m\u001b[0;34m\u001b[0m\u001b[0m\n",
            "\u001b[0;31mKeyboardInterrupt\u001b[0m: "
          ]
        }
      ]
    },
    {
      "cell_type": "code",
      "metadata": {
        "id": "ytUBo9T8BebE"
      },
      "source": [
        "# Testing\n",
        "\n",
        "test_ds = train_img_data_gen.flow_from_directory(directory=test_dir,\n",
        "                                                    class_mode='categorical',\n",
        "                                                    target_size=(img_width, img_height),\n",
        "                                                    batch_size=batch_size,\n",
        "                                                    shuffle=True\n",
        "                                                   )"
      ],
      "execution_count": null,
      "outputs": []
    },
    {
      "cell_type": "code",
      "metadata": {
        "colab": {
          "base_uri": "https://localhost:8080/"
        },
        "id": "CNNwF-kRAgQV",
        "outputId": "7488a52a-2bd2-462c-ee79-7fd8b88a9b3b"
      },
      "source": [
        "print(\"Evaluate on test data\")\n",
        "results = model.evaluate(val_ds, verbose=1)\n",
        "print(\"test loss, test acc:\", results)\n",
        "\n",
        "# Model 6 is current best.\n",
        "# Model 3: 0.4545. Model 4: 0.4450. Model 5: 0.3918. Model 6: 0.3842 epoch 129\n",
        "\n",
        "# Full 3: val_loss: 1.5400 - val_accuracy: 0.6430\n",
        "# Inception new2: 0.2160 0.9379\n",
        "\n",
        "# Ungenerated full 1: val_loss: 1.5292 - val_accuracy: 0.6542\n",
        "\n",
        "# Test model 3: loss: 0.4627 - accuracy: 0.8564\n",
        "# Test model 5: loss: 0.4583 - accuracy: 0.8647\n",
        "\n",
        "# print(\"Generate predictions for 3 samples\")\n",
        "# predictions = model.predict(test_ds[:3])\n",
        "# print(\"predictions shape:\", predictions.shape)"
      ],
      "execution_count": 18,
      "outputs": [
        {
          "output_type": "stream",
          "text": [
            "Evaluate on test data\n",
            "111/111 [==============================] - 33s 297ms/step - loss: 0.2155 - sparse_categorical_accuracy: 0.9375\n",
            "test loss, test acc: [0.21546627581119537, 0.9374822974205017]\n"
          ],
          "name": "stdout"
        }
      ]
    },
    {
      "cell_type": "code",
      "metadata": {
        "id": "yi4Z6gFaM3zM"
      },
      "source": [
        "!pip install coremltools\n",
        "import coremltools"
      ],
      "execution_count": null,
      "outputs": []
    },
    {
      "cell_type": "code",
      "metadata": {
        "id": "fPuWAEQ9M9UH"
      },
      "source": [
        "model.save('image_classifier.h5')\n",
        "\n",
        "image_classifier.short_description = 'Classification of 70 different foods'\n",
        "image_classifier.input_description['image'] = 'Takes as input an image of a food'\n",
        "image_classifier.output_description['output'] = 'Prediction of food type'\n",
        "output_labels = val_ds.class_indices.keys()\n",
        "\n",
        "your_model = coremltools.converters.keras.convert('image_classifier.h5', input_names=['image'], output_names=['output'], \n",
        "                                                   class_labels=output_labels, image_input_names='image', image_scale=2/255.0,\n",
        "                                                  red_bias=-1, green_bias=-1, blue_bias=-1)\n",
        "\n",
        "your_model.save('your_model_name.mlmodel')"
      ],
      "execution_count": null,
      "outputs": []
    }
  ]
}