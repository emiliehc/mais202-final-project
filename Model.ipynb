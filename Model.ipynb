{
  "nbformat": 4,
  "nbformat_minor": 0,
  "metadata": {
    "accelerator": "GPU",
    "colab": {
      "name": "New model.ipynb",
      "provenance": [],
      "collapsed_sections": [],
      "machine_shape": "hm"
    },
    "kernelspec": {
      "display_name": "Python 3",
      "name": "python3"
    }
  },
  "cells": [
    {
      "cell_type": "markdown",
      "metadata": {
        "id": "2Tg445dl8frS"
      },
      "source": [
        "# Data Preprocessing\n",
        "\n",
        "\n"
      ]
    },
    {
      "cell_type": "code",
      "metadata": {
        "colab": {
          "base_uri": "https://localhost:8080/"
        },
        "id": "q9n0lA-t61oH",
        "outputId": "3421c282-de69-4868-fe71-1acfbe097ab5"
      },
      "source": [
        "from google.colab import drive\n",
        "drive.mount('/content/drive')"
      ],
      "execution_count": null,
      "outputs": [
        {
          "output_type": "stream",
          "text": [
            "Drive already mounted at /content/drive; to attempt to forcibly remount, call drive.mount(\"/content/drive\", force_remount=True).\n"
          ],
          "name": "stdout"
        }
      ]
    },
    {
      "cell_type": "code",
      "metadata": {
        "id": "5AAqdjC5TH6-"
      },
      "source": [
        "import os, os.path, shutil\n",
        "import numpy as np\n",
        "import matplotlib.pyplot as plt\n",
        "import pandas as pd\n",
        "import seaborn as sns\n",
        "import pathlib\n",
        "import os\n",
        "import datetime\n",
        "from PIL import Image\n",
        "import tensorflow as tf\n",
        "import keras\n",
        "from tensorflow.keras.preprocessing.image import *\n",
        "from tensorflow.keras import layers\n",
        "from tensorflow.keras.models import Sequential, Model\n",
        "from tensorflow.keras.layers import *\n",
        "from tensorflow.keras.optimizers import *\n",
        "from tensorflow.keras.applications import *\n",
        "from tensorflow.keras.callbacks import *\n",
        "from tensorflow.keras.initializers import *\n",
        "from tensorflow.keras.preprocessing.image import ImageDataGenerator\n",
        "from tensorflow.keras.applications.inception_resnet_v2 import preprocess_input"
      ],
      "execution_count": null,
      "outputs": []
    },
    {
      "cell_type": "code",
      "metadata": {
        "id": "mUSR2omNBuBu"
      },
      "source": [
        "# Cell to create training split\n",
        "\n",
        "# import os, os.path, shutil\n",
        "\n",
        "# folder_path = \"/content/drive/MyDrive/MAIS/MAIS202Data/food-101-data/images\"\n",
        "# train_path = \"/content/drive/MyDrive/MAIS/MAIS202Data/food-101-data/test-full\"\n",
        "\n",
        "# folder_path = \"/content/food-101/images\"\n",
        "# train_path = \"/content/test\"\n",
        "\n",
        "# folders = [f for f in os.listdir(folder_path)]\n",
        "\n",
        "# for folder in folders:\n",
        "#     path = os.path.join(folder_path, folder)\n",
        "#     tpath = os.path.join(train_path,folder)\n",
        "\n",
        "#     if not os.path.exists(tpath):\n",
        "#         os.makedirs(tpath)\n",
        "\n",
        "#     images = os.listdir(path)\n",
        "#     count = 0\n",
        "#     for image in images:\n",
        "#       if count <= 100:\n",
        "#         old_image_path = os.path.join(path,image)\n",
        "#         new_image_path = os.path.join(tpath,image)\n",
        "#         shutil.move(old_image_path, new_image_path)\n",
        "#       count += 1"
      ],
      "execution_count": null,
      "outputs": []
    },
    {
      "cell_type": "code",
      "metadata": {
        "id": "SJ7towKDngVe"
      },
      "source": [
        "# %cp -a \"/content/drive/MyDrive/MAIS/MAIS202Data/food-101-data/image-subset\" \"/content\"\n",
        "# data_dir = pathlib.Path(\"/content/image-subset\")\n",
        "# %cp -a \"/content/drive/MyDrive/MAIS/MAIS202Data/food-101-data/test\" \"/content\"\n",
        "# test_dir = pathlib.Path(\"/content/test\")"
      ],
      "execution_count": null,
      "outputs": []
    },
    {
      "cell_type": "code",
      "metadata": {
        "id": "JmDhaXCi4HS7"
      },
      "source": [
        "!wget https://data.vision.ee.ethz.ch/cvl/food-101.tar.gz\n",
        "!tar -xzf food-101.tar.gz\n",
        "data_dir = pathlib.Path(\"/content/food-101/images\")\n",
        "val_dir = pathlib.Path(\"/content/validation\")\n",
        "test_dir = pathlib.Path(\"/content/test\")\n",
        "\n",
        "exception = [42, 18, 84, 3, 17, 47, 80, 36, 26, 89, 96, 39, 5, 49, 57, 59, 99, 8, 10, 0, 15, 82, 56, 67, 37, 93, 22, 50, 4, 87, 77]\n",
        "\n",
        "folder_path = data_dir\n",
        "train_path = test_dir\n",
        "\n",
        "folders = sorted([f for f in os.listdir(folder_path)])\n",
        "\n",
        "for index, folder in enumerate(folders):\n",
        "  path = os.path.join(folder_path, folder)\n",
        "  tpath = os.path.join(train_path,folder)\n",
        "\n",
        "  if index in exception:\n",
        "    shutil.rmtree(path)\n",
        "    continue\n",
        "\n",
        "  if not os.path.exists(tpath):\n",
        "      os.makedirs(tpath)\n",
        "\n",
        "  images = os.listdir(path)\n",
        "  count = 0\n",
        "  for image in images:\n",
        "    if count <= 100:\n",
        "      old_image_path = os.path.join(path,image)\n",
        "      new_image_path = os.path.join(tpath,image)\n",
        "      shutil.move(old_image_path, new_image_path)\n",
        "    count += 1"
      ],
      "execution_count": null,
      "outputs": []
    },
    {
      "cell_type": "code",
      "metadata": {
        "id": "9ZhAb4gRb37A"
      },
      "source": [
        "folder_path = data_dir\n",
        "val_path = val_dir\n",
        "\n",
        "folders = [f for f in os.listdir(folder_path)]\n",
        "\n",
        "for folder in folders:\n",
        "    path = os.path.join(folder_path, folder)\n",
        "    tpath = os.path.join(val_path,folder)\n",
        "\n",
        "    if not os.path.exists(tpath):\n",
        "        os.makedirs(tpath)\n",
        "\n",
        "    images = os.listdir(path)\n",
        "    count = 0\n",
        "    for image in images:\n",
        "      if count <= 100:\n",
        "        old_image_path = os.path.join(path,image)\n",
        "        new_image_path = os.path.join(tpath,image)\n",
        "        shutil.move(old_image_path, new_image_path)\n",
        "      count += 1"
      ],
      "execution_count": null,
      "outputs": []
    },
    {
      "cell_type": "code",
      "metadata": {
        "id": "xj_euqkOb9vx"
      },
      "source": [
        "val_dir = test_dir"
      ],
      "execution_count": null,
      "outputs": []
    },
    {
      "cell_type": "code",
      "metadata": {
        "colab": {
          "base_uri": "https://localhost:8080/"
        },
        "id": "FO0QwRpeKVuW",
        "outputId": "2db7f4b6-6e03-40e9-e80c-21fee1127d8f"
      },
      "source": [
        "batch_size = 64\n",
        "img_height = 256\n",
        "img_width = 256\n",
        "\n",
        "train_img_data_gen = ImageDataGenerator(preprocessing_function=preprocess_input,\n",
        "                                  #  validation_split=0.1,\n",
        "                                   width_shift_range=0.2,\n",
        "                                   height_shift_range=0.2,\n",
        "                                   shear_range=5,\n",
        "                                   horizontal_flip=True,\n",
        "                                   vertical_flip=False,\n",
        "                                   fill_mode='nearest',\n",
        "                                   zoom_range=0.2\n",
        "                                  )\n",
        "\n",
        "val_img_data_gen = ImageDataGenerator(preprocessing_function=preprocess_input)\n",
        "\n",
        "train_ds = train_img_data_gen.flow_from_directory(directory=data_dir,\n",
        "                                                    class_mode='sparse',\n",
        "                                                    target_size=(img_width, img_height),\n",
        "                                                    batch_size=batch_size,\n",
        "                                                    # subset='training',\n",
        "                                                    shuffle=True\n",
        "                                                   )\n",
        "\n",
        "\n",
        "val_ds = val_img_data_gen.flow_from_directory(directory=val_dir,\n",
        "                                                    class_mode='sparse',\n",
        "                                                    target_size=(img_width, img_height),\n",
        "                                                    batch_size=batch_size,\n",
        "                                                    # subset='validation',\n",
        "                                                    shuffle=True\n",
        "                                                   )"
      ],
      "execution_count": null,
      "outputs": [
        {
          "output_type": "stream",
          "text": [
            "Found 62930 images belonging to 70 classes.\n",
            "Found 7070 images belonging to 70 classes.\n"
          ],
          "name": "stdout"
        }
      ]
    },
    {
      "cell_type": "code",
      "metadata": {
        "id": "eRtXejQ6kziB"
      },
      "source": [
        "x_batch, y_batch = next(train_ds)\n",
        "\n",
        "for i in range(0,11):\n",
        "    image = x_batch[i]\n",
        "    plt.imshow(image)\n",
        "    plt.show()"
      ],
      "execution_count": null,
      "outputs": []
    },
    {
      "cell_type": "code",
      "metadata": {
        "id": "t6AO7K4YOaAL",
        "colab": {
          "base_uri": "https://localhost:8080/"
        },
        "outputId": "14f1bd48-02af-4966-edb7-63ebe9be9413"
      },
      "source": [
        "num_classes = 70\n",
        "\n",
        "modelBase = InceptionResNetV2(weights='imagenet', include_top=False, input_shape=(256, 256, 3), pooling='avg')\n",
        "\n",
        "modelp = modelBase.output\n",
        "# modelp = Flatten()(modelp)\n",
        "\n",
        "# modelp = Dense(2048, kernel_initializer='he_uniform', activation='relu')(modelp)\n",
        "# modelp = Dense(2048, kernel_initializer='he_uniform', activation='relu')(modelp)\n",
        "# modelp = Dense(2048, kernel_initializer='he_uniform', activation='relu')(modelp)\n",
        "modelp = Dense(2048, kernel_initializer='he_uniform', activation='relu')(modelp)\n",
        "output = Dense(num_classes, activation='softmax')(modelp)\n",
        "\n",
        "model = Model(inputs=modelBase.input, outputs=output)\n",
        "\n",
        "for layer in modelBase.layers:\n",
        "    layer.trainable = False"
      ],
      "execution_count": null,
      "outputs": [
        {
          "output_type": "stream",
          "text": [
            "Downloading data from https://storage.googleapis.com/tensorflow/keras-applications/inception_v3/inception_v3_weights_tf_dim_ordering_tf_kernels_notop.h5\n",
            "87916544/87910968 [==============================] - 2s 0us/step\n"
          ],
          "name": "stdout"
        }
      ]
    },
    {
      "cell_type": "code",
      "metadata": {
        "id": "qg38UBpZCEFr"
      },
      "source": [
        "modelBase = tf.keras.models.load_model('/content/drive/MyDrive/MAIS/MAIS202Data/inception1')\n",
        "output = Dense(num_classes, activation='relu')(modelBase.layers[-2].output)\n",
        "model = Model(inputs=modelBase.input, outputs=output)"
      ],
      "execution_count": null,
      "outputs": []
    },
    {
      "cell_type": "code",
      "metadata": {
        "id": "EE3asOG8YI2g"
      },
      "source": [
        "model = tf.keras.models.load_model('/content/drive/MyDrive/MAIS/MAIS202Data/inception-new2')"
      ],
      "execution_count": null,
      "outputs": []
    },
    {
      "cell_type": "code",
      "metadata": {
        "id": "SbrwQ0GBv6ai"
      },
      "source": [
        "# for i, layer in enumerate(model.layers):\n",
        "#    print(i, layer.name)\n",
        "\n",
        "for layer in model.layers[:777]:\n",
        "   layer.trainable = False\n",
        "for layer in model.layers[777:]:\n",
        "   layer.trainable = True\n",
        "\n",
        "# for layer in model.layers[:781]:\n",
        "#    layer.trainable = False\n",
        "# for layer in model.layers[781:]:\n",
        "#    layer.trainable = True\n",
        "\n",
        "# for layer in model.layers[:312]:\n",
        "#    layer.trainable = False\n",
        "# for layer in model.layers[312:]:\n",
        "#    layer.trainable = True"
      ],
      "execution_count": null,
      "outputs": []
    },
    {
      "cell_type": "code",
      "metadata": {
        "id": "XcxhuFJLOm0V"
      },
      "source": [
        "# opt = keras.optimizers.Adam(learning_rate=0.00005)\n",
        "# opt = keras.optimizers.Adam(learning_rate=0.00001)\n",
        "# opt = keras.optimizers.Adam(learning_rate=0.000000005)\n",
        "opt = keras.optimizers.Adam(learning_rate=0.000001)\n",
        "# opt = keras.optimizers.Adam()\n",
        "# opt = keras.optimizers.SGD(learning_rate=0.000005, momentum=0.9, nesterov=True)\n",
        "# opt = keras.optimizers.SGD(momentum=0.9, nesterov=True)\n",
        "\n",
        "model.compile(\n",
        "  optimizer=opt,\n",
        "  loss=tf.losses.SparseCategoricalCrossentropy(),\n",
        "  metrics=['sparse_categorical_accuracy'])"
      ],
      "execution_count": null,
      "outputs": []
    },
    {
      "cell_type": "code",
      "metadata": {
        "colab": {
          "base_uri": "https://localhost:8080/"
        },
        "id": "aCkYdnvtOoqk",
        "outputId": "9d70a8e4-be01-4569-f57d-68c45bdfcae2"
      },
      "source": [
        "print(\"Start training:\",datetime.datetime.now())\n",
        "\n",
        "modelPath = \"/content/drive/MyDrive/MAIS/MAIS202Data/inception-new3\"\n",
        "\n",
        "earlyStopping = EarlyStopping(monitor='val_loss', patience=30, verbose=0, mode='min')\n",
        "mcp_save = ModelCheckpoint(modelPath, save_best_only=True, monitor='val_loss', mode='min')\n",
        "reduce_lr_loss = ReduceLROnPlateau(monitor='val_loss', factor=0.1, patience=5, verbose=1, mode='min')\n",
        "\n",
        "model.fit(\n",
        "    train_ds,\n",
        "    validation_data=val_ds,\n",
        "    epochs=50,\n",
        "    verbose=1,\n",
        "    initial_epoch=0,\n",
        "    max_queue_size=100,\n",
        "    workers=300,\n",
        "    use_multiprocessing=False,\n",
        "    callbacks=[earlyStopping, mcp_save, reduce_lr_loss]\n",
        ")"
      ],
      "execution_count": null,
      "outputs": [
        {
          "output_type": "stream",
          "text": [
            "Start training: 2021-04-08 23:35:34.146943\n",
            "Epoch 1/50\n",
            "984/984 [==============================] - 715s 646ms/step - loss: 0.2452 - sparse_categorical_accuracy: 0.9295 - val_loss: 0.2169 - val_sparse_categorical_accuracy: 0.9376\n",
            "INFO:tensorflow:Assets written to: /content/drive/MyDrive/MAIS/MAIS202Data/inception-new3/assets\n",
            "Epoch 2/50\n",
            "984/984 [==============================] - 660s 616ms/step - loss: 0.2414 - sparse_categorical_accuracy: 0.9310 - val_loss: 0.2160 - val_sparse_categorical_accuracy: 0.9376\n",
            "INFO:tensorflow:Assets written to: /content/drive/MyDrive/MAIS/MAIS202Data/inception-new3/assets\n",
            "Epoch 3/50\n",
            "984/984 [==============================] - 666s 621ms/step - loss: 0.2394 - sparse_categorical_accuracy: 0.9298 - val_loss: 0.2160 - val_sparse_categorical_accuracy: 0.9379\n",
            "Epoch 4/50\n",
            "984/984 [==============================] - 660s 616ms/step - loss: 0.2420 - sparse_categorical_accuracy: 0.9296 - val_loss: 0.2159 - val_sparse_categorical_accuracy: 0.9376\n",
            "INFO:tensorflow:Assets written to: /content/drive/MyDrive/MAIS/MAIS202Data/inception-new3/assets\n",
            "Epoch 5/50\n",
            "984/984 [==============================] - ETA: 0s - loss: 0.2373 - sparse_categorical_accuracy: 0.9312"
          ],
          "name": "stdout"
        }
      ]
    },
    {
      "cell_type": "code",
      "metadata": {
        "id": "ytUBo9T8BebE"
      },
      "source": [
        "# Testing\n",
        "\n",
        "test_ds = train_img_data_gen.flow_from_directory(directory=test_dir,\n",
        "                                                    class_mode='categorical',\n",
        "                                                    target_size=(img_width, img_height),\n",
        "                                                    batch_size=batch_size,\n",
        "                                                    shuffle=True\n",
        "                                                   )"
      ],
      "execution_count": null,
      "outputs": []
    },
    {
      "cell_type": "code",
      "metadata": {
        "colab": {
          "base_uri": "https://localhost:8080/"
        },
        "id": "CNNwF-kRAgQV",
        "outputId": "ff946ea3-f418-4236-f5bb-4f4b75d44fb5"
      },
      "source": [
        "print(\"Evaluate on test data\")\n",
        "results = model.evaluate(test_ds, verbose=1)\n",
        "print(\"test loss, test acc:\", results)\n",
        "\n",
        "# Model 6 is current best.\n",
        "# Model 3: 0.4545. Model 4: 0.4450. Model 5: 0.3918. Model 6: 0.3842 epoch 129\n",
        "\n",
        "# Full 3: val_loss: 1.5400 - val_accuracy: 0.6430\n",
        "# Inception new2: 0.2160 0.9379\n",
        "\n",
        "# Ungenerated full 1: val_loss: 1.5292 - val_accuracy: 0.6542\n",
        "\n",
        "# Test model 3: loss: 0.4627 - accuracy: 0.8564\n",
        "# Test model 5: loss: 0.4583 - accuracy: 0.8647\n",
        "\n",
        "# print(\"Generate predictions for 3 samples\")\n",
        "# predictions = model.predict(test_ds[:3])\n",
        "# print(\"predictions shape:\", predictions.shape)"
      ],
      "execution_count": null,
      "outputs": [
        {
          "output_type": "stream",
          "text": [
            "Evaluate on test data\n",
            "76/76 [==============================] - 22s 288ms/step - loss: 0.4583 - accuracy: 0.8647\n",
            "test loss, test acc: [0.4582836329936981, 0.8646864891052246]\n"
          ],
          "name": "stdout"
        }
      ]
    },
    {
      "cell_type": "code",
      "metadata": {
        "id": "yi4Z6gFaM3zM"
      },
      "source": [
        "!pip install coremltools\n",
        "import coremltools"
      ],
      "execution_count": null,
      "outputs": []
    },
    {
      "cell_type": "code",
      "metadata": {
        "id": "fPuWAEQ9M9UH"
      },
      "source": [
        "model.save('image_classifier.h5')\n",
        "\n",
        "image_classifier.short_description = 'Classification of 70 different foods'\n",
        "image_classifier.input_description['image'] = 'Takes as input an image of a food'\n",
        "image_classifier.output_description['output'] = 'Prediction of food type'\n",
        "output_labels = val_ds.class_indices.keys()\n",
        "\n",
        "your_model = coremltools.converters.keras.convert('image_classifier.h5', input_names=['image'], output_names=['output'], \n",
        "                                                   class_labels=output_labels, image_input_names='image', image_scale=2/255.0,\n",
        "                                                  red_bias=-1, green_bias=-1, blue_bias=-1)\n",
        "\n",
        "your_model.save('your_model_name.mlmodel')"
      ],
      "execution_count": null,
      "outputs": []
    }
  ]
}